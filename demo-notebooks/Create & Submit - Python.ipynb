{
 "cells": [
  {
   "cell_type": "markdown",
   "metadata": {
    "id": "UTO98CS_feHV"
   },
   "source": [
    "# Practice: Data Submission to ESS-DIVE SANDBOX Using API\n",
    "### Dataset API Version 1.7 (Package Service API)\n",
    "\n",
    "The ESS-DIVE Dataset API is a service that enables projects to programmatically submit and manage datasets with ESS-DIVE. This is an alternative to using the ESS-DIVE Online form for data uploads. This service encodes metadata using the JSON-LD specification. JSON-LD is a schema to encode linked Data using JSON, and in the future will be used by Google to index metadata for searches. The use of the standardized JSON-LD schema will dramatically increase the visibility of datasets, and also enable projects to create one-time code that can be reused for periodic uploads of datasets to ESS-DIVE. \n",
    "\n",
    "\n",
    "---\n",
    "\n",
    "⭐ Current Maximum Upload Limit: **500 GB per upload attempt**\n",
    "Please contact ess-dive-support@lbl.gov to submit datasets above this upload limit."
   ]
  },
  {
   "cell_type": "markdown",
   "metadata": {
    "id": "ln1UsEzr48Dv"
   },
   "source": [
    "**CHANGE TEXT - documentation uses sandbox for testing, when you're done use production**\n",
    "While learning the expected schema for the metadata use https://api-sandbox.ess-dive.lbl.gov, as this is the domain shown in the examples in this documentation. Once you've familiarized yourself with ESS-DIVE's metadata and dataset JSON_LD schema, use our production domain https://api.ess-dive.lbl.gov/ to submit datasets to ESS-DIVE for publishing and review. \n",
    "\n",
    "For additional information about the API, review the documentation at https://api-sandbox.ess-dive.lbl.gov.\n",
    "\n",
    "\n",
    "---\n",
    "\n",
    "ESS-DIVE Test API URL: https://api-sandbox.ess-dive.lbl.gov\n",
    "ESS-DIVE Production API URL: https://api.ess-dive.lbl.gov/\n",
    "Help Desk: ess-dive-support@lbl.gov"
   ]
  },
  {
   "cell_type": "markdown",
   "metadata": {
    "id": "yujnqOtsgIBz"
   },
   "source": [
    "## 1. Get Authentication Token - reword\n",
    "\n",
    "\n",
    "2. Go to https://data-sandbox.ess-dive.lbl.gov\n",
    "3. Sign in with Orcid\n",
    "4. Click your Name in the right hand corner and select My Profile \n",
    "5. Now Click the Settings > Authentication Token\n",
    "6. Scroll down and click Copy on the “Token” tab to get your authentication token \n",
    "\n",
    "---\n",
    "When you're ready to publish your dataset on production, use \n",
    "1. If you are not already registered to submit data with ESS-DIVE, follow the steps on the New Contributor Registration guide. \n",
    "\n",
    "\n",
    "\n"
   ]
  },
  {
   "cell_type": "markdown",
   "metadata": {
    "id": "Z97JGmb4Tvj9"
   },
   "source": [
    "## 2. Setup"
   ]
  },
  {
   "cell_type": "code",
   "execution_count": null,
   "metadata": {
    "colab": {
     "base_uri": "https://localhost:8080/"
    },
    "id": "_xnrI6sTVPRb",
    "outputId": "a72dcc24-a148-4a7e-b3c1-dadb33a0858c"
   },
   "outputs": [],
   "source": [
    "pip install requests"
   ]
  },
  {
   "cell_type": "markdown",
   "metadata": {
    "id": "eK7_dkbqU3M6"
   },
   "source": [
    "Enter your Authentication Token below. See step 1 for instructions to access your token through ESS-DIVE.\n",
    "\n",
    "*Always re-run this cell when you update your token. Tokens expire every 24 hours.*"
   ]
  },
  {
   "cell_type": "code",
   "execution_count": null,
   "metadata": {
    "id": "qzNunXQkfhcA"
   },
   "outputs": [],
   "source": [
    "import requests\n",
    "import os\n",
    "import json\n",
    "from ipywidgets import widgets, interact\n",
    "\n",
    "token_text = widgets.Text(\"\", description=\"Token:\")\n",
    "display(token_text)"
   ]
  },
  {
   "cell_type": "code",
   "execution_count": null,
   "metadata": {
    "id": "6vi1ZU5s4p8M"
   },
   "outputs": [],
   "source": [
    "token = token_text.value\n",
    "base = \"https://api-sandbox.ess-dive.lbl.gov/\"\n",
    "header_authorization =  \"bearer {}\".format(token)\n",
    "endpoint = \"packages\""
   ]
  },
  {
   "cell_type": "markdown",
   "metadata": {
    "id": "93wHjt7ABHNh"
   },
   "source": [
    "## 3. Create Metadata \n",
    "The following lines of code validate JSON-LD metadata for a single dataset.\n"
   ]
  },
  {
   "cell_type": "code",
   "execution_count": null,
   "metadata": {
    "id": "PDMvGoRQTovl"
   },
   "outputs": [],
   "source": [
    "provider_spruce = {\n",
    "   \"name\": \"SPRUCE\",\n",
    "   \"member\": {\n",
    "     \"@id\": \"http://orcid.org/0000-0001-7293-3561\",\n",
    "     \"givenName\": \"Paul J\",\n",
    "     \"familyName\": \"Hanson\",\n",
    "     \"email\": \"hansonpj@ornl.gov\",\n",
    "     \"jobTitle\": \"Principal Investigator\"\n",
    "   }\n",
    " }"
   ]
  },
  {
   "cell_type": "markdown",
   "metadata": {},
   "source": [
    "**Coming soon: Use project identifier instead of manually entering project metadata.**"
   ]
  },
  {
   "cell_type": "code",
   "execution_count": null,
   "metadata": {},
   "outputs": [],
   "source": [
    "#provider_spruce = {\n",
    "#            \"identifier\": {\n",
    "#            \"@type\": \"PropertyValue\",\n",
    "#                \"propertyID\": \"ess-dive\",\n",
    "#                \"value\": \"1e6d50d3-9532-43fb-a63f-bdcb4350bf0c\"\n",
    "#   }\n",
    "# }"
   ]
  },
  {
   "cell_type": "markdown",
   "metadata": {
    "id": "8fy8cZw87ZR6"
   },
   "source": [
    "Prepare the dataset authors in the order that you would like them to appear in the citation. Please add the ORCID for all authors, especially the first author, if possible. "
   ]
  },
  {
   "cell_type": "code",
   "execution_count": null,
   "metadata": {
    "id": "zH2BKZD4zJCs"
   },
   "outputs": [],
   "source": [
    "creators =  [\n",
    "   {\n",
    "     \"@id\": \"http://orcid.org/0000-0001-7293-3561\",\n",
    "     \"givenName\": \"Paul J\",\n",
    "     \"familyName\": \"Hanson\",\n",
    "     \"affiliation\": \"Oak Ridge National Laboratory\",\n",
    "     \"email\": \"hansonpj@ornl.gov\"\n",
    "   },\n",
    "   {\n",
    "     \"givenName\": \"Jeffrey\",\n",
    "     \"familyName\": \"Riggs\",\n",
    "     \"affiliation\": \"Oak Ridge National Laboratory\"\n",
    "   },\n",
    "   {\n",
    "     \"givenName\": \"C\",\n",
    "     \"familyName\": \"Nettles\",\n",
    "     \"affiliation\": \"Oak Ridge National Laboratory\"\n",
    "   },\n",
    "   {\n",
    "     \"givenName\": \"William\",\n",
    "     \"familyName\": \"Dorrance\",\n",
    "     \"affiliation\": \"Oak Ridge National Laboratory\"\n",
    "   },\n",
    "   {\n",
    "     \"givenName\": \"Les\",\n",
    "     \"familyName\": \"Hook\",\n",
    "     \"affiliation\": \"Oak Ridge National Laboratory\"\n",
    "   }\n",
    " ]"
   ]
  },
  {
   "cell_type": "markdown",
   "metadata": {},
   "source": [
    "Add dataset title"
   ]
  },
  {
   "cell_type": "code",
   "execution_count": null,
   "metadata": {},
   "outputs": [],
   "source": [
    "dataset_title = \"title_here\""
   ]
  },
  {
   "cell_type": "markdown",
   "metadata": {
    "id": "NZBpZFl57frR"
   },
   "source": [
    "Create the rest of the JSON-LD object\n"
   ]
  },
  {
   "cell_type": "code",
   "execution_count": null,
   "metadata": {
    "id": "hvW7MFOs7f3R"
   },
   "outputs": [],
   "source": [
    "json_ld = {\n",
    " \"@context\": \"http://schema.org/\",\n",
    " \"@type\": \"Dataset\",\n",
    " \"@id\": \"http://dx.doi.org/10.3334/CDIAC/spruce.001\",\n",
    " \"name\": dataset_title,\n",
    " \"description\": [\n",
    "   \"This data set reports selected ambient environmental monitoring data from the S1 bog in Minnesota for the period June 2010 through December 2016. Measurements of the environmental conditions at these stations will serve as a pre-treatment baseline for experimental treatments and provide driver data for future modeling activities.\",\n",
    "   \"The site is the S1 bog, a Picea mariana [black spruce] - Sphagnum spp. bog forest in northern Minnesota, 40 km north of Grand Rapids, in the USDA Forest Service Marcell Experimental Forest (MEF). There are/were three monitoring sites located in the bog: Stations 1 and 2 are co-located at the southern end of the bog and Station 3 is located north central and adjacent to an existing U.S. Forest Service monitoring well.\",\n",
    "   \"There are eight data files with selected results of ambient environmental monitoring in the S1 bog for the period June 2010 through December 2016. One file has the \",\n",
    "   \"other seven have the available data for a given calendar year. Not all measurements started in June 2010 and EM3 measurements ended in May 2014.\",\n",
    "   \"Further details about the data package are in the attached pdf file (SPRUCE_EM_DATA_2010_2016_20170620).\"\n",
    " ],\n",
    " \"creator\": creators,\n",
    " \"datePublished\": \"2015\",\n",
    " \"keywords\": [\n",
    "   \"EARTH SCIENCE > BIOSPHERE > VEGETATION\",\n",
    "   \"Climate Change\"\n",
    " ],\n",
    " \"variableMeasured\": [\n",
    "   \"EARTH SCIENCE > ATMOSPHERE > ATMOSPHERIC TEMPERATURE > SURFACE TEMPERATURE > AIR TEMPERATURE\",\n",
    "   \"EARTH SCIENCE > ATMOSPHERE > ATMOSPHERIC WATER VAPOR > WATER VAPOR INDICATORS > HUMIDITY > RELATIVE HUMIDITY\",\n",
    "   \"EARTH SCIENCE > ATMOSPHERE > ATMOSPHERIC PRESSURE > SEA LEVEL PRESSURE\",\n",
    "   \"EARTH SCIENCE > ATMOSPHERE > ATMOSPHERIC TEMPERATURE > SURFACE TEMPERATURE > DEW POINT TEMPERATURE > DEWPOINT DEPRESSION\",\n",
    "   \"EARTH SCIENCE > ATMOSPHERE > ATMOSPHERIC WINDS > SURFACE WINDS > WIND SPEED\",\n",
    "   \"EARTH SCIENCE > ATMOSPHERE > ATMOSPHERIC WINDS > SURFACE WINDS > WIND DIRECTION\",\n",
    "   \"EARTH SCIENCE > BIOSPHERE > VEGETATION > PHOTOSYNTHETICALLY ACTIVE RADIATION\",\n",
    "   \"EARTH SCIENCE > ATMOSPHERE > ATMOSPHERIC RADIATION > NET RADIATION\",\n",
    "   \"EARTH SCIENCE > LAND SURFACE > SURFACE RADIATIVE PROPERTIES > ALBEDO\",\n",
    "   \"EARTH SCIENCE > LAND SURFACE > SOILS > SOIL TEMPERATURE\",\n",
    "   \"Precipitation (Total)\",\n",
    "   \"Irradiance\",\n",
    "   \"Groundwater Temperature\",\n",
    "   \"Groundwater Level\",\n",
    "   \"Volumetric Water Content\",\n",
    "   \"surface_albedo\"\n",
    " ],\n",
    " \"license\": \"http://creativecommons.org/licenses/by/4.0/\",\n",
    " \"spatialCoverage\": [\n",
    "   {\n",
    "     \"description\": \"Site ID: S1 Bog Site name: S1 Bog, Marcell Experimental Forest Description: The site is the 8.1-ha S1 bog, a Picea mariana [black spruce] - Sphagnum spp. ombrotrophic bog forest in northern Minnesota, 40 km north of Grand Rapids, in the USDA Forest Service Marcell Experimental Forest (MEF). The S1 bog was harvested in successive strip cuts in 1969 and 1974 and the cut areas were allowed to naturally regenerate. Stations 1 and 2 are located in a 1974 strip that is characterized by a medium density of 3-5 meter black spruce and larch trees with an open canopy. The area was suitable for siting a monitoring station for representative meteorological conditions on the S1 bog. Station 3 is located in a 1969 harvest strip that is characterized by a higher density of 3-5 meter black spruce and larch trees with a generally closed canopy. Measurements at this station represent conditions in the surrounding stand. Site Photographs are in the attached document\",\n",
    "     \"geo\": [\n",
    "       {\n",
    "         \"name\": \"Northwest\",\n",
    "         \"latitude\": 47.50285,\n",
    "         \"longitude\": -93.48283\n",
    "       },\n",
    "       {\n",
    "         \"name\": \"Southeast\",\n",
    "         \"latitude\": 47.50285,\n",
    "         \"longitude\": -93.48283\n",
    "       }\n",
    "     ]\n",
    "   }\n",
    " ],\n",
    " \"funder\": {\n",
    "   \"@id\": \"http://dx.doi.org/10.13039/100006206\",\n",
    "   \"name\": \"U.S. DOE > Office of Science > Biological and Environmental Research (BER)\"\n",
    " },\n",
    " \"temporalCoverage\": {\n",
    "   \"startDate\": \"2010-07-16\",\n",
    "   \"endDate\": \"2016-12-31\"\n",
    " },\n",
    " \"editor\": {\n",
    "   \"@id\": \"http://orcid.org/0000-0001-7293-3561\",\n",
    "   \"givenName\": \"Paul J\",\n",
    "   \"familyName\": \"Hanson\",\n",
    "   \"email\": \"hansonpj@ornl.gov\"\n",
    " },\n",
    " \"provider\": provider_spruce,\n",
    " \"measurementTechnique\": [\n",
    "   \"The stations are equipped with standard sensors for measuring meteorological parameters, solar radiation, soil temperature and moisture, and groundwater temperature and elevation. Note that some sensor locations are relative to nearby vegetation and bog microtopographic features (i.e., hollows and hummocks). See Table 1 in the attached pdf (SPRUCE_EM_DATA_2010_2016_20170620) for a list of measurements and further details. Sensors and data loggers were initially installed and became operational in June, July, and August of 2010. Additional sensors were added in September 2011. Station 3 was removed from service on May 12, 2014.\",\n",
    "   \"These data are considered at Quality Level 1. Level 1 indicates an internally consistent data product that has been subjected to quality checks and data management procedures. Established calibration procedures were followed.\"\n",
    " ]\n",
    "}"
   ]
  },
  {
   "cell_type": "markdown",
   "metadata": {
    "id": "EiszmKKJCsxg"
   },
   "source": [
    "## Submit your dataset\n",
    "There are three options for creating a new dataset:\n",
    "\n",
    "*   submit metadata only\n",
    "*   submit metadata and a single data file\n",
    "*   submit metadata and multiple data files \n",
    "\n"
   ]
  },
  {
   "cell_type": "markdown",
   "metadata": {
    "id": "ZUBkHPbk7gCS"
   },
   "source": [
    "### Metadata Only\n",
    "Use the following cell to submit only your JSON-LD object."
   ]
  },
  {
   "cell_type": "code",
   "execution_count": null,
   "metadata": {
    "id": "nAkr83H37pJM"
   },
   "outputs": [],
   "source": [
    "post_packages_url = \"{}{}\".format(base,endpoint)\n",
    "post_package_response = requests.post(post_packages_url,\n",
    "                                      headers={\"Authorization\":header_authorization},\n",
    "                                      json=json_ld)\n",
    "\n",
    "if post_package_response.status_code == 201:\n",
    "    # Success\n",
    "    response=post_package_response.json()\n",
    "    print(f\"View URL:{response['viewUrl']}\")\n",
    "    print(f\"Name:{response['dataset']['name']}\")\n",
    "else:\n",
    "    # There was an error\n",
    "    print(post_package_response.text)"
   ]
  },
  {
   "cell_type": "markdown",
   "metadata": {
    "id": "zXca7qo68fE-"
   },
   "source": [
    "### Metadata and Single Data File\n",
    "To submit the JSON-LD object along with a data file, use the following cell block. Replace \"file_path\" with the path to your file."
   ]
  },
  {
   "cell_type": "code",
   "execution_count": null,
   "metadata": {
    "id": "b1kHlWYY8in-"
   },
   "outputs": [],
   "source": [
    "files_tuples_array = []\n",
    "upload_file = \"file_path\"\n",
    "\n",
    "files_tuples_array.append(((\"json-ld\", json.dumps(json_ld))))\n",
    "files_tuples_array.append((\"data\", open(upload_file ,'rb')))\n",
    "\n",
    "post_packages_url = \"{}{}\".format(base,endpoint)\n",
    "post_package_response = requests.post(post_packages_url,\n",
    "                                    headers={\"Authorization\":header_authorization},\n",
    "                                    files= files_tuples_array)\n",
    "\n",
    "if post_package_response.status_code == 201:\n",
    "    # Success\n",
    "    response=post_package_response.json()\n",
    "    print(f\"View URL:{response['viewUrl']}\")\n",
    "    print(f\"Name:{response['dataset']['name']}\")\n",
    "else:\n",
    "    # There was an error\n",
    "    print(post_package_response.text)\n"
   ]
  },
  {
   "cell_type": "markdown",
   "metadata": {
    "id": "lsZTNg9FAivU"
   },
   "source": [
    "### Metadata and Multiple Data Files\n",
    "If you have many files to be uploaded, you can place them all inside a directory named 'files' and use the following code:"
   ]
  },
  {
   "cell_type": "code",
   "execution_count": null,
   "metadata": {
    "id": "KM20zaFwAmEh"
   },
   "outputs": [],
   "source": [
    "files_tuples_array = []\n",
    "files_upload_directory = \"/Users/emilyarobles/Desktop/API_TEST_FILES/\"\n",
    "files = os.listdir(files_upload_directory)\n",
    "\n",
    "files_tuples_array.append(((\"json-ld\", json.dumps(json_ld))))\n",
    "\n",
    "for filename in files:\n",
    "   file_directory = files_upload_directory + filename\n",
    "   files_tuples_array.append(((\"data\", open(file_directory, 'rb'))))\n",
    "\n",
    "post_packages_url = \"{}{}\".format(base,endpoint)\n",
    "post_package_response = requests.post(post_packages_url,\n",
    "                                    headers={\"Authorization\":header_authorization},\n",
    "                                    files= files_tuples_array)\n",
    "\n",
    "if post_package_response.status_code == 201:\n",
    "   # Success\n",
    "   response=post_package_response.json()\n",
    "   print(f\"View URL:{response['viewUrl']}\")\n",
    "   print(f\"Name:{response['dataset']['name']}\")\n",
    "else:\n",
    "   # There was an error\n",
    "   print(post_package_response.text)"
   ]
  },
  {
   "cell_type": "markdown",
   "metadata": {
    "id": "FbZX7HQD_Get"
   },
   "source": [
    "# Revise Existing Datasets\n",
    "It is possible to both update the metadata and data of an existing dataset.  The following update scenarios are possible \n",
    "\n",
    "*   update metadata only\n",
    "*   replace/add files only\n",
    "*   both update metadata and replace/add files. \n",
    "\n",
    "These examples will demonstrate both updating metadata and adding new files to the dataset created in previous sections."
   ]
  },
  {
   "cell_type": "markdown",
   "metadata": {
    "id": "wswTOzr1BbD1"
   },
   "source": [
    "### Update metadata only\n",
    "Use the PUT function to update the metadata of a dataset.  This example updates the title (name) of a dataset. You will need the ESS-DIVE identifier of the dataset that you want to revise. "
   ]
  },
  {
   "cell_type": "code",
   "execution_count": null,
   "metadata": {},
   "outputs": [],
   "source": [
    "dataset_id = input('Enter an ESS-DIVE Identifier here: ')"
   ]
  },
  {
   "cell_type": "code",
   "execution_count": null,
   "metadata": {
    "id": "gBHjV8GPCzQr"
   },
   "outputs": [],
   "source": [
    "put_package_url = \"{}{}/{}\".format(base,endpoint, dataset_id)\n",
    "\n",
    "metadata_update_dict = {\"name\": \"Updated Dataset Name\"}\n",
    "\n",
    "put_package_response = requests.put(put_package_url,\n",
    "                                    headers={\"Authorization\":header_authorization},\n",
    "                                    json=metadata_update_dict)"
   ]
  },
  {
   "cell_type": "markdown",
   "metadata": {
    "id": "Yf4LKPf2By8E"
   },
   "source": [
    "Check the results for the changed metadata attribute"
   ]
  },
  {
   "cell_type": "code",
   "execution_count": null,
   "metadata": {
    "id": "7XaUOvneBzbM"
   },
   "outputs": [],
   "source": [
    "# Check for errors\n",
    "if put_package_response.status_code == 200:\n",
    "   # Success\n",
    "   response=put_package_response.json()\n",
    "   print(f\"View URL:{response['viewUrl']}\")\n",
    "   print(f\"Name:{response['dataset']['name']}\")\n",
    "else:\n",
    "   # There was an error\n",
    "   print(put_package_response.text)"
   ]
  },
  {
   "cell_type": "markdown",
   "metadata": {
    "id": "9gAwOeh4CC0Q"
   },
   "source": [
    "### Metadata plus a new data file\n",
    "Use the PUT function to update a dataset.  This example updates the date published to 2019 of a dataset and adds a new data file."
   ]
  },
  {
   "cell_type": "code",
   "execution_count": null,
   "metadata": {
    "scrolled": false
   },
   "outputs": [],
   "source": [
    "dataset_id = input('Enter an ESS-DIVE Identifier here: ')"
   ]
  },
  {
   "cell_type": "code",
   "execution_count": null,
   "metadata": {
    "id": "Zs9cgaT4CDEb"
   },
   "outputs": [],
   "source": [
    "files_tuples_array = []\n",
    "upload_file = \"path/to/your_file\"\n",
    "files_tuples_array.append(((\"json-ld\", json.dumps(metadata_update_dict))))\n",
    "files_tuples_array.append((\"data\", open(upload_file ,'rb')))\n",
    "\n",
    "put_package_url = \"{}{}/{}\".format(base,endpoint, dataset_id)\n",
    "\n",
    "\n",
    "\n",
    "put_package_response = requests.put(put_package_url,\n",
    "                                   headers={\"Authorization\":header_authorization},\n",
    "                                   files= files_tuples_array)"
   ]
  },
  {
   "cell_type": "markdown",
   "metadata": {
    "id": "0bVDRztkCKwy"
   },
   "source": [
    "Check the results for the changed metadata attribute.\n"
   ]
  },
  {
   "cell_type": "code",
   "execution_count": null,
   "metadata": {
    "id": "-ul8pIEyCK9_"
   },
   "outputs": [],
   "source": [
    "# Check for errors\n",
    "if put_package_response.status_code == 200:\n",
    "    # Success\n",
    "    response=put_package_response.json()\n",
    "    print(f\"View URL:{response['viewUrl']}\")\n",
    "    print(f\"Date Published:{response['dataset']['datePublished']}\")\n",
    "    print(f\"Files In Dataset:{response['dataset']['distribution']}\")\n",
    "else:\n",
    "   # There was an error\n",
    "   print(put_package_response.text)"
   ]
  },
  {
   "cell_type": "markdown",
   "metadata": {
    "id": "Cy0iTU6pCaec"
   },
   "source": [
    "Check the results for the added metadata attribute."
   ]
  },
  {
   "cell_type": "code",
   "execution_count": null,
   "metadata": {
    "id": "-aj_RkdqCapf"
   },
   "outputs": [],
   "source": [
    "get_packages_url = \"{}{}\".format(base,endpoint)\n",
    "get_packages_response = requests.get(get_packages_url, \n",
    "    headers={\"Authorization\":header_authorization})\n",
    "\n",
    "if get_packages_response.status_code == 200:\n",
    "   #Success\n",
    "   print(get_packages_response.json())\n",
    "else:\n",
    "   # There was an error\n",
    "   print(get_packages_response.text)"
   ]
  }
 ],
 "metadata": {
  "colab": {
   "provenance": []
  },
  "kernelspec": {
   "display_name": "Python 3",
   "language": "python",
   "name": "python3"
  },
  "language_info": {
   "codemirror_mode": {
    "name": "ipython",
    "version": 3
   },
   "file_extension": ".py",
   "mimetype": "text/x-python",
   "name": "python",
   "nbconvert_exporter": "python",
   "pygments_lexer": "ipython3",
   "version": "3.8.8"
  }
 },
 "nbformat": 4,
 "nbformat_minor": 1
}
